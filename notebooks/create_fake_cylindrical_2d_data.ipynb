{
 "cells": [
  {
   "cell_type": "markdown",
   "metadata": {},
   "source": [
    "# Table of Contents\n",
    "* [Instructions](#Instructions)\n",
    "* [Python Import](#Python-Import)\n",
    "* [Create Homogeneous 2D Data](#Create-Homogeneous-2D-Data)\n",
    "\t* [Define Data Characteristics](#Define-Data-Characteristics)\n",
    "\t* [Create 1D Data](#Create-1D-Data)\n",
    "\t* [Create 2D Data](#Create-2D-Data)\n",
    "\t* [Export Image (FITS and TIFF)](#Export-Image-%28FITS-and-TIFF%29)\n",
    "\t\t* [FITS](#FITS)\n",
    "\t\t* [TIFF](#TIFF)\n",
    "* [Create Inhomogeneous 2D Data](#Create-Inhomogeneous-2D-Data)\n",
    "\t* [Define Data Characteristics](#Define-Data-Characteristics)\n",
    "\t* [Create 1D Data](#Create-1D-Data)\n",
    "\t* [Create 2D Data](#Create-2D-Data)\n",
    "\t* [Export Image (FITS and TIFF)](#Export-Image-%28FITS-and-TIFF%29)\n",
    "\t\t* [FITS](#FITS)\n",
    "\t\t* [TIFF](#TIFF)\n"
   ]
  },
  {
   "cell_type": "markdown",
   "metadata": {},
   "source": [
    "# Instructions "
   ]
  },
  {
   "cell_type": "markdown",
   "metadata": {},
   "source": [
    "This notebook will allow to create fits/tiff images of fake cylindrical samples with user defined intensity"
   ]
  },
  {
   "cell_type": "markdown",
   "metadata": {},
   "source": [
    "# Python Import"
   ]
  },
  {
   "cell_type": "code",
   "execution_count": 1,
   "metadata": {},
   "outputs": [],
   "source": [
    "# from plotly.offline import plot, init_notebook_mode, iplot\n",
    "# init_notebook_mode()\n",
    "# import plotly.plotly as py\n",
    "# import plotly.graph_objs as go\n",
    "# from plotly import tools\n",
    "\n",
    "import numpy as np\n",
    "\n",
    "from IPython.display import Image\n",
    "from IPython.core.display import HTML\n",
    "\n",
    "import matplotlib.pyplot as plt\n",
    "%matplotlib inline\n",
    "\n",
    "import file_handler"
   ]
  },
  {
   "cell_type": "markdown",
   "metadata": {
    "heading_collapsed": true
   },
   "source": [
    "# Create Homogeneous 2D Data "
   ]
  },
  {
   "cell_type": "code",
   "execution_count": 2,
   "metadata": {
    "hidden": true,
    "scrolled": false
   },
   "outputs": [
    {
     "data": {
      "text/html": [
       "<img src=\"images/homogeneous_cylinder_2d_image.png\" width=\"750\" height=\"750\" class=\"unconfined\"/>"
      ],
      "text/plain": [
       "<IPython.core.display.Image object>"
      ]
     },
     "execution_count": 2,
     "metadata": {},
     "output_type": "execute_result"
    }
   ],
   "source": [
    "Image(url=\"images/homogeneous_cylinder_2d_image.png\", width=750, height=750, unconfined=True)"
   ]
  },
  {
   "cell_type": "markdown",
   "metadata": {
    "hidden": true
   },
   "source": [
    "## Define Data Characteristics "
   ]
  },
  {
   "cell_type": "code",
   "execution_count": 3,
   "metadata": {
    "hidden": true
   },
   "outputs": [],
   "source": [
    "#image size\n",
    "width, height = 512, 512\n",
    "\n",
    "pixel_intensity = 4\n",
    "radius = 200\n",
    "pixel_center = 256\n",
    "\n",
    "# reset\n",
    "if 'circle_matrix' in globals() or 'circle_matrix' in vars():\n",
    "    del circle_matrix\n",
    "    del circle_matrix_bool\n",
    "    del homogeneous_image\n",
    "    cirlce_matrix = None\n",
    "    circle_matrix_bool = None\n",
    "    homogeneous_image = None"
   ]
  },
  {
   "cell_type": "markdown",
   "metadata": {
    "hidden": true
   },
   "source": [
    "## Create 1D Data "
   ]
  },
  {
   "cell_type": "code",
   "execution_count": 4,
   "metadata": {
    "hidden": true
   },
   "outputs": [],
   "source": [
    "def is_point_inside_circle(x,y):\n",
    "    _r = x*x + y*y\n",
    "    if np.sqrt(_r) <= radius:\n",
    "        return True\n",
    "    return False\n",
    "\n",
    "x_range = np.arange(-radius, radius+1)\n",
    "y_range = np.arange(-radius, radius+1)"
   ]
  },
  {
   "cell_type": "code",
   "execution_count": 5,
   "metadata": {
    "hidden": true
   },
   "outputs": [
    {
     "data": {
      "text/plain": [
       "<matplotlib.image.AxesImage at 0x7fa768b8ff50>"
      ]
     },
     "execution_count": 5,
     "metadata": {},
     "output_type": "execute_result"
    },
    {
     "data": {
      "image/png": "[encoded data removed]",
      "text/plain": [
       "<Figure size 720x720 with 1 Axes>"
      ]
     },
     "metadata": {
      "needs_background": "light"
     },
     "output_type": "display_data"
    }
   ],
   "source": [
    "circle_matrix_bool = np.empty([height, width], dtype=bool)\n",
    "circle_matrix_bool[:] = False\n",
    "border = pixel_center - radius\n",
    "for x in x_range:\n",
    "    for y in y_range:\n",
    "        _result = is_point_inside_circle(x, y)\n",
    "        circle_matrix_bool[pixel_center+x, pixel_center+y] = _result\n",
    "        \n",
    "circle_matrix = np.zeros([height, width])\n",
    "circle_matrix[:] = 0\n",
    "circle_matrix[circle_matrix_bool] = pixel_intensity\n",
    "\n",
    "fig =  plt.figure(figsize=(10,10))\n",
    "ax_img = plt.subplot(111)\n",
    "ax_img.imshow(circle_matrix)"
   ]
  },
  {
   "cell_type": "code",
   "execution_count": 6,
   "metadata": {
    "hidden": true
   },
   "outputs": [],
   "source": [
    "projected_image = np.sum(circle_matrix, axis=0)"
   ]
  },
  {
   "cell_type": "markdown",
   "metadata": {
    "hidden": true
   },
   "source": [
    "## Create 2D Data "
   ]
  },
  {
   "cell_type": "code",
   "execution_count": 7,
   "metadata": {
    "hidden": true
   },
   "outputs": [
    {
     "data": {
      "text/plain": [
       "<matplotlib.image.AxesImage at 0x7fa77accb710>"
      ]
     },
     "execution_count": 7,
     "metadata": {},
     "output_type": "execute_result"
    },
    {
     "data": {
      "image/png": "[encoded data removed]",
      "text/plain": [
       "<Figure size 720x720 with 1 Axes>"
      ]
     },
     "metadata": {
      "needs_background": "light"
     },
     "output_type": "display_data"
    }
   ],
   "source": [
    "homogeneous_image = np.zeros([height, width], dtype=float)\n",
    "\n",
    "for h in np.arange(height):\n",
    "    homogeneous_image[h, :] = projected_image\n",
    "    \n",
    "fig1 =  plt.figure(figsize=(10,10))\n",
    "ax_img = plt.subplot(111)\n",
    "ax_img.imshow(homogeneous_image)"
   ]
  },
  {
   "cell_type": "markdown",
   "metadata": {
    "hidden": true
   },
   "source": [
    "## Export Image (FITS and TIFF) "
   ]
  },
  {
   "cell_type": "markdown",
   "metadata": {
    "hidden": true
   },
   "source": [
    "### FITS"
   ]
  },
  {
   "cell_type": "code",
   "execution_count": 8,
   "metadata": {
    "hidden": true
   },
   "outputs": [],
   "source": [
    "output_file_name = 'data/homogeneous_image_px_intensity_4.fits'\n",
    "file_handler.make_fits(filename=output_file_name, data=homogeneous_image)"
   ]
  },
  {
   "cell_type": "markdown",
   "metadata": {
    "hidden": true
   },
   "source": [
    "### TIFF"
   ]
  },
  {
   "cell_type": "code",
   "execution_count": 9,
   "metadata": {
    "hidden": true
   },
   "outputs": [],
   "source": [
    "homogeneous_image = homogeneous_image / np.max(homogeneous_image) * 256\n",
    "output_file_name = 'data/homogeneous_image.tif'\n",
    "file_handler.make_tiff(filename=output_file_name, data=homogeneous_image)"
   ]
  },
  {
   "cell_type": "markdown",
   "metadata": {},
   "source": [
    "# Create Inhomogeneous 2D Data "
   ]
  },
  {
   "cell_type": "markdown",
   "metadata": {
    "heading_collapsed": true
   },
   "source": [
    "## Data of Interest are in the Outer Ring"
   ]
  },
  {
   "cell_type": "code",
   "execution_count": 10,
   "metadata": {
    "hidden": true,
    "scrolled": false
   },
   "outputs": [
    {
     "data": {
      "text/html": [
       "<img src=\"images/inhomogeneous_cylinder_2d_image.png\" width=\"750\" height=\"750\" class=\"unconfined\"/>"
      ],
      "text/plain": [
       "<IPython.core.display.Image object>"
      ]
     },
     "execution_count": 10,
     "metadata": {},
     "output_type": "execute_result"
    }
   ],
   "source": [
    "Image(url=\"images/inhomogeneous_cylinder_2d_image.png\", width=750, height=750, unconfined=True)"
   ]
  },
  {
   "cell_type": "markdown",
   "metadata": {
    "hidden": true
   },
   "source": [
    "### Define Data Characteristics "
   ]
  },
  {
   "cell_type": "code",
   "execution_count": 11,
   "metadata": {
    "hidden": true
   },
   "outputs": [],
   "source": [
    "#image size\n",
    "width, height = 512, 512\n",
    "\n",
    "pixel_intensity = 8\n",
    "inner_radius = 150\n",
    "outer_radius = 200\n",
    "pixel_center = 256\n",
    "\n",
    "# reset\n",
    "if 'circle_matrix' in globals() or 'circle_matrix' in vars():\n",
    "    del circle_matrix\n",
    "    cirlce_matrix = None\n",
    "\n",
    "if 'circle_matrix_bool' in globals():\n",
    "    del circle_matrix_bool\n",
    "    circle_matrix_bool = None\n",
    "    \n",
    "if 'inhomogeneous_image' in globals():\n",
    "    del inhomogeneous_image\n",
    "    inhomogeneous_image = None"
   ]
  },
  {
   "cell_type": "markdown",
   "metadata": {
    "hidden": true
   },
   "source": [
    "### Create 1D Data "
   ]
  },
  {
   "cell_type": "code",
   "execution_count": 12,
   "metadata": {
    "hidden": true
   },
   "outputs": [],
   "source": [
    "def is_point_inside_circle(x,y,r):\n",
    "    _r = x*x + y*y\n",
    "    if np.sqrt(_r) <= r:\n",
    "        return True\n",
    "    return False\n",
    "\n",
    "def is_point_outside_circle(x,y,r):\n",
    "    _r = x*x + y*y\n",
    "    if np.sqrt(_r) > r:\n",
    "        return True\n",
    "    return False\n",
    "\n",
    "x_range = np.arange(-outer_radius, outer_radius+1)\n",
    "y_range = np.arange(-outer_radius, outer_radius+1)"
   ]
  },
  {
   "cell_type": "code",
   "execution_count": 14,
   "metadata": {
    "hidden": true
   },
   "outputs": [
    {
     "data": {
      "text/plain": [
       "<matplotlib.image.AxesImage at 0x7fa70854d990>"
      ]
     },
     "execution_count": 14,
     "metadata": {},
     "output_type": "execute_result"
    },
    {
     "data": {
      "image/png": "[encoded data removed]",
      "text/plain": [
       "<Figure size 720x720 with 1 Axes>"
      ]
     },
     "metadata": {
      "needs_background": "light"
     },
     "output_type": "display_data"
    }
   ],
   "source": [
    "circle_matrix_bool = np.empty([height, width], dtype=bool)\n",
    "circle_matrix_bool[:] = False\n",
    "border = pixel_center - outer_radius\n",
    "for x in x_range:\n",
    "    for y in y_range:\n",
    "        _result = is_point_inside_circle(x, y, outer_radius)\n",
    "        if _result:\n",
    "            _result = is_point_outside_circle(x, y, inner_radius)\n",
    "        circle_matrix_bool[pixel_center+x, pixel_center+y] = _result\n",
    "        \n",
    "circle_matrix = np.zeros([height, width])\n",
    "circle_matrix[:] = 0\n",
    "circle_matrix[circle_matrix_bool] = pixel_intensity\n",
    "\n",
    "fig =  plt.figure(figsize=(10,10))\n",
    "ax_img = plt.subplot(111)\n",
    "ax_img.imshow(circle_matrix)"
   ]
  },
  {
   "cell_type": "code",
   "execution_count": 15,
   "metadata": {
    "hidden": true
   },
   "outputs": [],
   "source": [
    "inhomogeneous_projected_image = np.sum(circle_matrix, axis=0)"
   ]
  },
  {
   "cell_type": "markdown",
   "metadata": {
    "hidden": true
   },
   "source": [
    "### Create 2D Data "
   ]
  },
  {
   "cell_type": "code",
   "execution_count": 16,
   "metadata": {
    "hidden": true
   },
   "outputs": [
    {
     "data": {
      "text/plain": [
       "[<matplotlib.lines.Line2D at 0x7fa7283e87d0>]"
      ]
     },
     "execution_count": 16,
     "metadata": {},
     "output_type": "execute_result"
    },
    {
     "data": {
      "image/png": "[encoded data removed]",
      "text/plain": [
       "<Figure size 720x720 with 1 Axes>"
      ]
     },
     "metadata": {
      "needs_background": "light"
     },
     "output_type": "display_data"
    },
    {
     "data": {
      "image/png": "[encoded data removed]",
      "text/plain": [
       "<Figure size 720x720 with 1 Axes>"
      ]
     },
     "metadata": {
      "needs_background": "light"
     },
     "output_type": "display_data"
    }
   ],
   "source": [
    "inhomogeneous_image = np.zeros([height, width], dtype=float)\n",
    "\n",
    "for h in np.arange(height):\n",
    "    inhomogeneous_image[h, :] = inhomogeneous_projected_image\n",
    "    \n",
    "fig1 =  plt.figure(figsize=(10,10))\n",
    "ax_img = plt.subplot(111)\n",
    "ax_img.imshow(inhomogeneous_image)\n",
    "\n",
    "fig2 =  plt.figure(figsize=(10,10))\n",
    "ax_img = plt.subplot(111)\n",
    "ax_img.plot(inhomogeneous_image[0,:])\n",
    "\n"
   ]
  },
  {
   "cell_type": "markdown",
   "metadata": {
    "hidden": true
   },
   "source": [
    "### Export Image (FITS and TIFF) "
   ]
  },
  {
   "cell_type": "markdown",
   "metadata": {
    "hidden": true
   },
   "source": [
    "#### FITS"
   ]
  },
  {
   "cell_type": "code",
   "execution_count": 17,
   "metadata": {
    "hidden": true
   },
   "outputs": [],
   "source": [
    "output_file_name = 'data/inhomogeneous_image_px_intensity_{}.fits'.format(pixel_intensity)\n",
    "file_handler.make_fits(filename=output_file_name, data=inhomogeneous_image)"
   ]
  },
  {
   "cell_type": "markdown",
   "metadata": {
    "hidden": true
   },
   "source": [
    "#### TIFF"
   ]
  },
  {
   "cell_type": "code",
   "execution_count": 18,
   "metadata": {
    "hidden": true
   },
   "outputs": [],
   "source": [
    "output_file_name = 'data/inhomogeneous_image_px_intensity_{}.tif'.format(pixel_intensity)\n",
    "file_handler.make_tiff(filename=output_file_name, data=inhomogeneous_image)"
   ]
  },
  {
   "cell_type": "markdown",
   "metadata": {},
   "source": [
    "## Data of Interest are in the Inner Cylinder"
   ]
  },
  {
   "cell_type": "code",
   "execution_count": 19,
   "metadata": {},
   "outputs": [
    {
     "data": {
      "text/html": [
       "<img src=\"images/inhomogeneous_cylinder_inner_and_outer_material.png\" width=\"750\" height=\"750\" class=\"unconfined\"/>"
      ],
      "text/plain": [
       "<IPython.core.display.Image object>"
      ]
     },
     "execution_count": 19,
     "metadata": {},
     "output_type": "execute_result"
    }
   ],
   "source": [
    "Image(url=\"images/inhomogeneous_cylinder_inner_and_outer_material.png\", width=750, height=750, unconfined=True)"
   ]
  },
  {
   "cell_type": "markdown",
   "metadata": {},
   "source": [
    "### Define Data Characteristics "
   ]
  },
  {
   "cell_type": "code",
   "execution_count": 20,
   "metadata": {},
   "outputs": [],
   "source": [
    "#image size\n",
    "width, height = 512, 512\n",
    "\n",
    "ring_pixel_intensity = 2\n",
    "inner_pixel_intensity = 3\n",
    "inner_radius = 150\n",
    "outer_radius = 200\n",
    "pixel_center = 256\n",
    "\n",
    "# reset\n",
    "if 'circle_matrix' in globals() or 'circle_matrix' in vars():\n",
    "    del circle_matrix\n",
    "    cirlce_matrix = None\n",
    "\n",
    "if 'circle_matrix_bool' in globals():\n",
    "    del circle_matrix_bool\n",
    "    circle_matrix_bool = None\n",
    "    \n",
    "if 'inhomogeneous_image' in globals():\n",
    "    del inhomogeneous_image\n",
    "    inhomogeneous_image = None"
   ]
  },
  {
   "cell_type": "markdown",
   "metadata": {},
   "source": [
    "### Create 1D Data "
   ]
  },
  {
   "cell_type": "code",
   "execution_count": 21,
   "metadata": {},
   "outputs": [],
   "source": [
    "def is_point_inside_circle(x,y,r):\n",
    "    _r = x*x + y*y\n",
    "    if np.sqrt(_r) <= r:\n",
    "        return True\n",
    "    return False\n",
    "\n",
    "def is_point_outside_circle(x,y,r):\n",
    "    _r = x*x + y*y\n",
    "    if np.sqrt(_r) > r:\n",
    "        return True\n",
    "    return False\n",
    "\n",
    "x_range = np.arange(-outer_radius, outer_radius+1)\n",
    "y_range = np.arange(-outer_radius, outer_radius+1)"
   ]
  },
  {
   "cell_type": "code",
   "execution_count": 22,
   "metadata": {},
   "outputs": [
    {
     "data": {
      "text/plain": [
       "<matplotlib.image.AxesImage at 0x7fa708011610>"
      ]
     },
     "execution_count": 22,
     "metadata": {},
     "output_type": "execute_result"
    },
    {
     "data": {
      "image/png": "[encoded data removed]",
      "text/plain": [
       "<Figure size 720x720 with 1 Axes>"
      ]
     },
     "metadata": {
      "needs_background": "light"
     },
     "output_type": "display_data"
    }
   ],
   "source": [
    "circle_matrix_bool = np.empty([height, width], dtype=bool)\n",
    "circle_matrix_bool[:] = False\n",
    "border = pixel_center - outer_radius\n",
    "\n",
    "circle_matrix = np.zeros([height, width])\n",
    "circle_matrix[:] = 0\n",
    "\n",
    "# fill inner cirlce\n",
    "for x in x_range:\n",
    "    for y in y_range:\n",
    "        _result = is_point_inside_circle(x, y, inner_radius)\n",
    "        circle_matrix_bool[pixel_center+x, pixel_center+y] = _result\n",
    "\n",
    "circle_matrix[circle_matrix_bool] = inner_pixel_intensity\n",
    "\n",
    "# fill ring\n",
    "for x in x_range:\n",
    "    for y in y_range:\n",
    "        _result = is_point_inside_circle(x, y, outer_radius)\n",
    "        if _result:\n",
    "            _result = is_point_outside_circle(x, y, inner_radius)\n",
    "        circle_matrix_bool[pixel_center+x, pixel_center+y] = _result\n",
    "        \n",
    "circle_matrix[circle_matrix_bool] = ring_pixel_intensity\n",
    "\n",
    "fig =  plt.figure(figsize=(10,10))\n",
    "ax_img = plt.subplot(111)\n",
    "ax_img.imshow(circle_matrix)"
   ]
  },
  {
   "cell_type": "code",
   "execution_count": 23,
   "metadata": {},
   "outputs": [],
   "source": [
    "inhomogeneous_projected_image = np.sum(circle_matrix, axis=0)"
   ]
  },
  {
   "cell_type": "markdown",
   "metadata": {},
   "source": [
    "### Create 2D Data "
   ]
  },
  {
   "cell_type": "code",
   "execution_count": 25,
   "metadata": {},
   "outputs": [
    {
     "data": {
      "text/plain": [
       "[<matplotlib.lines.Line2D at 0x7fa7084e7a90>]"
      ]
     },
     "execution_count": 25,
     "metadata": {},
     "output_type": "execute_result"
    },
    {
     "data": {
      "image/png": "[encoded data removed]",
      "text/plain": [
       "<Figure size 720x720 with 1 Axes>"
      ]
     },
     "metadata": {
      "needs_background": "light"
     },
     "output_type": "display_data"
    },
    {
     "data": {
      "image/png": "[encoded data removed]",
      "text/plain": [
       "<Figure size 720x720 with 1 Axes>"
      ]
     },
     "metadata": {
      "needs_background": "light"
     },
     "output_type": "display_data"
    }
   ],
   "source": [
    "inhomogeneous_image = np.zeros([height, width], dtype=float)\n",
    "\n",
    "for h in np.arange(height):\n",
    "    inhomogeneous_image[h, :] = inhomogeneous_projected_image\n",
    "    \n",
    "fig1 =  plt.figure(figsize=(10,10))\n",
    "ax_img = plt.subplot(111)\n",
    "ax_img.imshow(inhomogeneous_image)\n",
    "\n",
    "fig2 =  plt.figure(figsize=(10,10))\n",
    "ax_img = plt.subplot(111)\n",
    "ax_img.plot(inhomogeneous_image[0,:])\n",
    "\n"
   ]
  },
  {
   "cell_type": "markdown",
   "metadata": {},
   "source": [
    "### Export Image (FITS and TIFF) "
   ]
  },
  {
   "cell_type": "markdown",
   "metadata": {},
   "source": [
    "#### FITS"
   ]
  },
  {
   "cell_type": "code",
   "execution_count": 26,
   "metadata": {},
   "outputs": [],
   "source": [
    "output_file_name = 'data/inhomogeneous_image_px_inner_intensity_{}_px_outer_intensity_{}.fits'.format(inner_pixel_intensity, ring_pixel_intensity)\n",
    "file_handler.make_fits(filename=output_file_name, data=inhomogeneous_image)"
   ]
  },
  {
   "cell_type": "markdown",
   "metadata": {},
   "source": [
    "#### TIFF"
   ]
  },
  {
   "cell_type": "code",
   "execution_count": 27,
   "metadata": {},
   "outputs": [],
   "source": [
    "output_file_name = 'data/inhomogeneous_image_px_inner_intensity_{}_px_outer_intensity_{}.tif'.format(inner_pixel_intensity, ring_pixel_intensity)\n",
    "file_handler.make_tiff(filename=output_file_name, data=inhomogeneous_image)"
   ]
  },
  {
   "cell_type": "code",
   "execution_count": null,
   "metadata": {
    "collapsed": true
   },
   "outputs": [],
   "source": []
  }
 ],
 "metadata": {
  "kernelspec": {
   "display_name": "Python 3",
   "language": "python",
   "name": "python3"
  },
  "language_info": {
   "codemirror_mode": {
    "name": "ipython",
    "version": 3
   },
   "file_extension": ".py",
   "mimetype": "text/x-python",
   "name": "python",
   "nbconvert_exporter": "python",
   "pygments_lexer": "ipython3",
   "version": "3.7.10"
  }
 },
 "nbformat": 4,
 "nbformat_minor": 1
}
